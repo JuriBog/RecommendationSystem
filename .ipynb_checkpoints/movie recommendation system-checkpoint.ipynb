{
 "cells": [
  {
   "cell_type": "markdown",
   "metadata": {},
   "source": [
    "# Content-based recommendation system\n",
    "\n",
    "## Introduction\n",
    "\n",
    "Many websites give users the possibility to rate items nowadays. Companies such as Amazon, Netflix, YouTube, IMDB and Bol.com use this information to recommend similar items to their users. The MovieLens dataset is a free dataset with a collection of movie ratings.\n",
    "\n",
    "In this document I will go through the process of creating a content-based recommendation system.\n"
   ]
  },
  {
   "cell_type": "markdown",
   "metadata": {},
   "source": [
    "## Preparation\n",
    "\n",
    "First we need to import our different datasets: The Movies dataset, the list of english stopwords and the english based stemmer."
   ]
  },
  {
   "cell_type": "code",
   "execution_count": 1,
   "metadata": {},
   "outputs": [
    {
     "data": {
      "text/html": [
       "<div>\n",
       "<style scoped>\n",
       "    .dataframe tbody tr th:only-of-type {\n",
       "        vertical-align: middle;\n",
       "    }\n",
       "\n",
       "    .dataframe tbody tr th {\n",
       "        vertical-align: top;\n",
       "    }\n",
       "\n",
       "    .dataframe thead th {\n",
       "        text-align: right;\n",
       "    }\n",
       "</style>\n",
       "<table border=\"1\" class=\"dataframe\">\n",
       "  <thead>\n",
       "    <tr style=\"text-align: right;\">\n",
       "      <th></th>\n",
       "      <th>Actors</th>\n",
       "      <th>Awards</th>\n",
       "      <th>Country</th>\n",
       "      <th>Director</th>\n",
       "      <th>Genre</th>\n",
       "      <th>Language</th>\n",
       "      <th>Plot</th>\n",
       "      <th>Poster</th>\n",
       "      <th>Production</th>\n",
       "      <th>Rated</th>\n",
       "      <th>Released</th>\n",
       "      <th>Runtime</th>\n",
       "      <th>Title</th>\n",
       "      <th>Writer</th>\n",
       "      <th>Year</th>\n",
       "      <th>imdbId</th>\n",
       "      <th>imdbRating</th>\n",
       "      <th>imdbVotes</th>\n",
       "    </tr>\n",
       "  </thead>\n",
       "  <tbody>\n",
       "    <tr>\n",
       "      <th>0</th>\n",
       "      <td>Tom Hanks, Tim Allen, Don Rickles, Jim Varney</td>\n",
       "      <td>Nominated for 3 Oscars. Another 23 wins &amp; 18 n...</td>\n",
       "      <td>USA</td>\n",
       "      <td>John Lasseter</td>\n",
       "      <td>Animation, Adventure, Comedy</td>\n",
       "      <td>English</td>\n",
       "      <td>A cowboy doll is profoundly threatened and jea...</td>\n",
       "      <td>https://images-na.ssl-images-amazon.com/images...</td>\n",
       "      <td>Buena Vista</td>\n",
       "      <td>G</td>\n",
       "      <td>22 Nov 1995</td>\n",
       "      <td>81 min</td>\n",
       "      <td>Toy Story</td>\n",
       "      <td>John Lasseter (original story by), Pete Docter...</td>\n",
       "      <td>1995</td>\n",
       "      <td>114709</td>\n",
       "      <td>8.3</td>\n",
       "      <td>666,855</td>\n",
       "    </tr>\n",
       "    <tr>\n",
       "      <th>1</th>\n",
       "      <td>Robin Williams, Jonathan Hyde, Kirsten Dunst, ...</td>\n",
       "      <td>4 wins &amp; 9 nominations.</td>\n",
       "      <td>USA</td>\n",
       "      <td>Joe Johnston</td>\n",
       "      <td>Action, Adventure, Family</td>\n",
       "      <td>English, French</td>\n",
       "      <td>When two kids find and play a magical board ga...</td>\n",
       "      <td>https://images-na.ssl-images-amazon.com/images...</td>\n",
       "      <td>Sony Pictures Home Entertainment</td>\n",
       "      <td>PG</td>\n",
       "      <td>15 Dec 1995</td>\n",
       "      <td>104 min</td>\n",
       "      <td>Jumanji</td>\n",
       "      <td>Jonathan Hensleigh (screenplay), Greg Taylor (...</td>\n",
       "      <td>1995</td>\n",
       "      <td>113497</td>\n",
       "      <td>6.9</td>\n",
       "      <td>223,000</td>\n",
       "    </tr>\n",
       "    <tr>\n",
       "      <th>2</th>\n",
       "      <td>Walter Matthau, Jack Lemmon, Sophia Loren, Ann...</td>\n",
       "      <td>2 wins &amp; 2 nominations.</td>\n",
       "      <td>USA</td>\n",
       "      <td>Howard Deutch</td>\n",
       "      <td>Comedy, Romance</td>\n",
       "      <td>English</td>\n",
       "      <td>John and Max resolve to save their beloved bai...</td>\n",
       "      <td>https://images-na.ssl-images-amazon.com/images...</td>\n",
       "      <td>Warner Home Video</td>\n",
       "      <td>PG-13</td>\n",
       "      <td>22 Dec 1995</td>\n",
       "      <td>101 min</td>\n",
       "      <td>Grumpier Old Men</td>\n",
       "      <td>Mark Steven Johnson (characters), Mark Steven ...</td>\n",
       "      <td>1995</td>\n",
       "      <td>113228</td>\n",
       "      <td>6.6</td>\n",
       "      <td>20,100</td>\n",
       "    </tr>\n",
       "    <tr>\n",
       "      <th>3</th>\n",
       "      <td>Whitney Houston, Angela Bassett, Loretta Devin...</td>\n",
       "      <td>8 wins &amp; 8 nominations.</td>\n",
       "      <td>USA</td>\n",
       "      <td>Forest Whitaker</td>\n",
       "      <td>Comedy, Drama, Romance</td>\n",
       "      <td>English</td>\n",
       "      <td>Based on Terry McMillan's novel, this film fol...</td>\n",
       "      <td>https://images-na.ssl-images-amazon.com/images...</td>\n",
       "      <td>Twentieth Century Fox Home Entertainment</td>\n",
       "      <td>R</td>\n",
       "      <td>22 Dec 1995</td>\n",
       "      <td>124 min</td>\n",
       "      <td>Waiting to Exhale</td>\n",
       "      <td>Terry McMillan (novel), Terry McMillan (screen...</td>\n",
       "      <td>1995</td>\n",
       "      <td>114885</td>\n",
       "      <td>5.7</td>\n",
       "      <td>7,769</td>\n",
       "    </tr>\n",
       "    <tr>\n",
       "      <th>4</th>\n",
       "      <td>Steve Martin, Diane Keaton, Martin Short, Kimb...</td>\n",
       "      <td>Nominated for 1 Golden Globe. Another 1 win &amp; ...</td>\n",
       "      <td>USA</td>\n",
       "      <td>Charles Shyer</td>\n",
       "      <td>Comedy, Family, Romance</td>\n",
       "      <td>English</td>\n",
       "      <td>George Banks must deal not only with the pregn...</td>\n",
       "      <td>https://images-na.ssl-images-amazon.com/images...</td>\n",
       "      <td>Disney</td>\n",
       "      <td>PG</td>\n",
       "      <td>08 Dec 1995</td>\n",
       "      <td>106 min</td>\n",
       "      <td>Father of the Bride Part II</td>\n",
       "      <td>Albert Hackett (screenplay), Frances Goodrich ...</td>\n",
       "      <td>1995</td>\n",
       "      <td>113041</td>\n",
       "      <td>5.9</td>\n",
       "      <td>27,815</td>\n",
       "    </tr>\n",
       "  </tbody>\n",
       "</table>\n",
       "</div>"
      ],
      "text/plain": [
       "                                              Actors  \\\n",
       "0      Tom Hanks, Tim Allen, Don Rickles, Jim Varney   \n",
       "1  Robin Williams, Jonathan Hyde, Kirsten Dunst, ...   \n",
       "2  Walter Matthau, Jack Lemmon, Sophia Loren, Ann...   \n",
       "3  Whitney Houston, Angela Bassett, Loretta Devin...   \n",
       "4  Steve Martin, Diane Keaton, Martin Short, Kimb...   \n",
       "\n",
       "                                              Awards Country         Director  \\\n",
       "0  Nominated for 3 Oscars. Another 23 wins & 18 n...     USA    John Lasseter   \n",
       "1                            4 wins & 9 nominations.     USA     Joe Johnston   \n",
       "2                            2 wins & 2 nominations.     USA    Howard Deutch   \n",
       "3                            8 wins & 8 nominations.     USA  Forest Whitaker   \n",
       "4  Nominated for 1 Golden Globe. Another 1 win & ...     USA    Charles Shyer   \n",
       "\n",
       "                          Genre         Language  \\\n",
       "0  Animation, Adventure, Comedy          English   \n",
       "1     Action, Adventure, Family  English, French   \n",
       "2               Comedy, Romance          English   \n",
       "3        Comedy, Drama, Romance          English   \n",
       "4       Comedy, Family, Romance          English   \n",
       "\n",
       "                                                Plot  \\\n",
       "0  A cowboy doll is profoundly threatened and jea...   \n",
       "1  When two kids find and play a magical board ga...   \n",
       "2  John and Max resolve to save their beloved bai...   \n",
       "3  Based on Terry McMillan's novel, this film fol...   \n",
       "4  George Banks must deal not only with the pregn...   \n",
       "\n",
       "                                              Poster  \\\n",
       "0  https://images-na.ssl-images-amazon.com/images...   \n",
       "1  https://images-na.ssl-images-amazon.com/images...   \n",
       "2  https://images-na.ssl-images-amazon.com/images...   \n",
       "3  https://images-na.ssl-images-amazon.com/images...   \n",
       "4  https://images-na.ssl-images-amazon.com/images...   \n",
       "\n",
       "                                 Production  Rated     Released  Runtime  \\\n",
       "0                               Buena Vista      G  22 Nov 1995   81 min   \n",
       "1          Sony Pictures Home Entertainment     PG  15 Dec 1995  104 min   \n",
       "2                         Warner Home Video  PG-13  22 Dec 1995  101 min   \n",
       "3  Twentieth Century Fox Home Entertainment      R  22 Dec 1995  124 min   \n",
       "4                                    Disney     PG  08 Dec 1995  106 min   \n",
       "\n",
       "                         Title  \\\n",
       "0                    Toy Story   \n",
       "1                      Jumanji   \n",
       "2             Grumpier Old Men   \n",
       "3            Waiting to Exhale   \n",
       "4  Father of the Bride Part II   \n",
       "\n",
       "                                              Writer  Year  imdbId imdbRating  \\\n",
       "0  John Lasseter (original story by), Pete Docter...  1995  114709        8.3   \n",
       "1  Jonathan Hensleigh (screenplay), Greg Taylor (...  1995  113497        6.9   \n",
       "2  Mark Steven Johnson (characters), Mark Steven ...  1995  113228        6.6   \n",
       "3  Terry McMillan (novel), Terry McMillan (screen...  1995  114885        5.7   \n",
       "4  Albert Hackett (screenplay), Frances Goodrich ...  1995  113041        5.9   \n",
       "\n",
       "  imdbVotes  \n",
       "0   666,855  \n",
       "1   223,000  \n",
       "2    20,100  \n",
       "3     7,769  \n",
       "4    27,815  "
      ]
     },
     "metadata": {},
     "output_type": "display_data"
    },
    {
     "data": {
      "text/plain": [
       "count     9125\n",
       "unique    9006\n",
       "top        N/A\n",
       "freq        23\n",
       "Name: Actors, dtype: object"
      ]
     },
     "metadata": {},
     "output_type": "display_data"
    },
    {
     "data": {
      "text/plain": [
       "count     9125\n",
       "unique    2309\n",
       "top        N/A\n",
       "freq      1640\n",
       "Name: Awards, dtype: object"
      ]
     },
     "metadata": {},
     "output_type": "display_data"
    },
    {
     "data": {
      "text/plain": [
       "count     9125\n",
       "unique     845\n",
       "top        USA\n",
       "freq      5411\n",
       "Name: Country, dtype: object"
      ]
     },
     "metadata": {},
     "output_type": "display_data"
    },
    {
     "data": {
      "text/plain": [
       "count     9125\n",
       "unique    3835\n",
       "top        N/A\n",
       "freq        55\n",
       "Name: Director, dtype: object"
      ]
     },
     "metadata": {},
     "output_type": "display_data"
    },
    {
     "data": {
      "text/plain": [
       "count      9125\n",
       "unique      642\n",
       "top       Drama\n",
       "freq        518\n",
       "Name: Genre, dtype: object"
      ]
     },
     "metadata": {},
     "output_type": "display_data"
    },
    {
     "data": {
      "text/plain": [
       "count        9125\n",
       "unique        991\n",
       "top       English\n",
       "freq         5697\n",
       "Name: Language, dtype: object"
      ]
     },
     "metadata": {},
     "output_type": "display_data"
    },
    {
     "data": {
      "text/plain": [
       "count     9125\n",
       "unique    9101\n",
       "top        N/A\n",
       "freq        19\n",
       "Name: Plot, dtype: object"
      ]
     },
     "metadata": {},
     "output_type": "display_data"
    },
    {
     "data": {
      "text/plain": [
       "count     9125\n",
       "unique    9109\n",
       "top        N/A\n",
       "freq        15\n",
       "Name: Poster, dtype: object"
      ]
     },
     "metadata": {},
     "output_type": "display_data"
    },
    {
     "data": {
      "text/plain": [
       "count     9057\n",
       "unique    1287\n",
       "top        N/A\n",
       "freq       482\n",
       "Name: Production, dtype: object"
      ]
     },
     "metadata": {},
     "output_type": "display_data"
    },
    {
     "data": {
      "text/plain": [
       "count     9125\n",
       "unique      18\n",
       "top          R\n",
       "freq      3519\n",
       "Name: Rated, dtype: object"
      ]
     },
     "metadata": {},
     "output_type": "display_data"
    },
    {
     "data": {
      "text/plain": [
       "count     9125\n",
       "unique    4826\n",
       "top        N/A\n",
       "freq        65\n",
       "Name: Released, dtype: object"
      ]
     },
     "metadata": {},
     "output_type": "display_data"
    },
    {
     "data": {
      "text/plain": [
       "count       9125\n",
       "unique       231\n",
       "top       90 min\n",
       "freq         268\n",
       "Name: Runtime, dtype: object"
      ]
     },
     "metadata": {},
     "output_type": "display_data"
    },
    {
     "data": {
      "text/plain": [
       "count       9125\n",
       "unique      8846\n",
       "top       Hamlet\n",
       "freq           6\n",
       "Name: Title, dtype: object"
      ]
     },
     "metadata": {},
     "output_type": "display_data"
    },
    {
     "data": {
      "text/plain": [
       "count     9125\n",
       "unique    7863\n",
       "top        N/A\n",
       "freq       275\n",
       "Name: Writer, dtype: object"
      ]
     },
     "metadata": {},
     "output_type": "display_data"
    },
    {
     "data": {
      "text/plain": [
       "count     9125\n",
       "unique     124\n",
       "top       1998\n",
       "freq       274\n",
       "Name: Year, dtype: object"
      ]
     },
     "metadata": {},
     "output_type": "display_data"
    },
    {
     "data": {
      "text/plain": [
       "count    9.125000e+03\n",
       "mean     4.796230e+05\n",
       "std      7.426405e+05\n",
       "min      4.170000e+02\n",
       "25%      8.884600e+04\n",
       "50%      1.197780e+05\n",
       "75%      4.284410e+05\n",
       "max      5.794766e+06\n",
       "Name: imdbId, dtype: float64"
      ]
     },
     "metadata": {},
     "output_type": "display_data"
    },
    {
     "data": {
      "text/plain": [
       "count     9125\n",
       "unique      79\n",
       "top        7.2\n",
       "freq       428\n",
       "Name: imdbRating, dtype: object"
      ]
     },
     "metadata": {},
     "output_type": "display_data"
    },
    {
     "data": {
      "text/plain": [
       "count      9125\n",
       "unique     8335\n",
       "top       2,153\n",
       "freq          4\n",
       "Name: imdbVotes, dtype: object"
      ]
     },
     "metadata": {},
     "output_type": "display_data"
    }
   ],
   "source": [
    "from IPython.core.display import HTML\n",
    "from movie_display import movie_display\n",
    "from sklearn.feature_extraction.text import TfidfVectorizer\n",
    "from sklearn.neighbors import NearestNeighbors\n",
    "from nltk.corpus import stopwords\n",
    "from nltk.stem.snowball import SnowballStemmer\n",
    "from ipywidgets import interact, interactive, fixed, interact_manual\n",
    "import ipywidgets as widgets\n",
    "import pandas as pd\n",
    "import numpy as np\n",
    "import itertools\n",
    "import re\n",
    "\n",
    "# Load movies into a dataframe\n",
    "movies_df = pd.read_json('./dataset/imdbdata.json', orient='columns')\n",
    "\n",
    "# Have a quick look at the structure and contents\n",
    "display(movies_df.head())\n",
    "for col in movies_df.columns:\n",
    "    display(movies_df[col].describe())\n",
    "\n",
    "# Only keep the name of usable features\n",
    "unwanted = ['Poster', 'imdbId', 'imdbRating', 'imdbVotes']\n",
    "filtered_features = [e for e in movies_df.columns if e not in unwanted]\n",
    "\n",
    "# Get english stopwords\n",
    "stopwords = stopwords.words('english')\n",
    "\n",
    "# Get english based stemmer\n",
    "stemmer = SnowballStemmer('english')"
   ]
  },
  {
   "cell_type": "markdown",
   "metadata": {},
   "source": [
    "## Text Learning\n",
    "\n",
    "Our objective is now to prepare the movie dataset for the recommendation system. This is done by:\n",
    "\n",
    "1. Removing English StopWords\n",
    "2. Stemming the words remaining\n",
    "3. Create Tf-Idf weighted tables for the words\n",
    "4. Generate the top N matches\n",
    "\n",
    "Since we have multiple attributes to handle (Plot, Actors, Genre, Title) we need to process them separately and then merge their individual recommendations.\n",
    "\n",
    "*Side Note: At the end of the preprocess, the list of words is rebuilt as a string. This is volountary as the `TfidfVectorizer` can take a full DataFrame as parameter and split the words of each row.*"
   ]
  },
  {
   "cell_type": "code",
   "execution_count": 2,
   "metadata": {},
   "outputs": [],
   "source": [
    "def preprocess(feature_row):\n",
    "    \n",
    "    # Make sure that row is a string\n",
    "    feature_row = str(feature_row)\n",
    "    \n",
    "    # Transforms the text into an array of words\n",
    "    word_list_sw = re.sub(\"[^\\w]\",\" \", feature_row).split()\n",
    "    \n",
    "    # Then filter out the stop words\n",
    "    words_filtered = [word for word in word_list_sw if word not in stopwords]\n",
    "    \n",
    "    # Compute the stems of the remaning words \n",
    "    word_list_stemmed = [stemmer.stem(word) for word in words_filtered]\n",
    "    \n",
    "    return ' '.join(word_list_stemmed)\n",
    "\n",
    "def generate_Tfidf(feature_name):\n",
    "    \n",
    "    vectorizer = TfidfVectorizer()\n",
    "\n",
    "    # Apply the preprocessing  to each row\n",
    "    df_preprocessed = movies_df.apply(lambda row: preprocess(row[feature_name]), axis=1)\n",
    "    \n",
    "    return vectorizer.fit_transform(df_preprocessed)\n",
    "\n",
    "def generate_NN(tfidf):\n",
    "    cosineNN = NearestNeighbors(metric='cosine')\n",
    "    return cosineNN.fit(tfidf)"
   ]
  },
  {
   "cell_type": "markdown",
   "metadata": {},
   "source": [
    "We have now the functions that we need to generate our `Tf-Idf`vector and Nearest Neighbors learner.\n",
    "\n",
    "In order to make the computation faster during the movie recommendation, we precompute all tables here to avoid to recreate each time the `Tf-Idf`vector and Nearest Neighbors learner."
   ]
  },
  {
   "cell_type": "code",
   "execution_count": 3,
   "metadata": {},
   "outputs": [
    {
     "name": "stdout",
     "output_type": "stream",
     "text": [
      "Actors parsed\n",
      "Awards parsed\n",
      "Country parsed\n",
      "Director parsed\n",
      "Genre parsed\n",
      "Language parsed\n",
      "Plot parsed\n",
      "Production parsed\n",
      "Rated parsed\n",
      "Released parsed\n",
      "Runtime parsed\n",
      "Title parsed\n",
      "Writer parsed\n",
      "Year parsed\n"
     ]
    }
   ],
   "source": [
    "# Create the Tf-Idf vectors for all the selected features\n",
    "tfIdf_dict = {}\n",
    "for f in filtered_features:\n",
    "    print(f, 'parsed')\n",
    "    tfIdf_dict[f] = generate_Tfidf(f)"
   ]
  },
  {
   "cell_type": "code",
   "execution_count": 4,
   "metadata": {},
   "outputs": [
    {
     "name": "stdout",
     "output_type": "stream",
     "text": [
      "Actors NN generated\n",
      "Awards NN generated\n",
      "Country NN generated\n",
      "Director NN generated\n",
      "Genre NN generated\n",
      "Language NN generated\n",
      "Plot NN generated\n",
      "Production NN generated\n",
      "Rated NN generated\n",
      "Released NN generated\n",
      "Runtime NN generated\n",
      "Title NN generated\n",
      "Writer NN generated\n",
      "Year NN generated\n"
     ]
    }
   ],
   "source": [
    "# Create the Nearest Neighbors for all the selected features\n",
    "nn_dict = {}\n",
    "for f in filtered_features:\n",
    "    print(f, 'NN generated')\n",
    "    nn_dict[f] = generate_NN(tfIdf_dict[f])"
   ]
  },
  {
   "cell_type": "markdown",
   "metadata": {},
   "source": [
    "## Recommendation\n",
    "\n",
    "Now that our `Tf-Idf` tables for each feature are ready, we can compoute the NearestNeighbors for each of them by using the cosine metric."
   ]
  },
  {
   "cell_type": "code",
   "execution_count": 5,
   "metadata": {},
   "outputs": [],
   "source": [
    "def compute_recommendation(nearestNeighbors, tfidf, movie_index, nb_recommendation):\n",
    "    \n",
    "    # Get the K best neighbors for the given movie\n",
    "    dist, indices = nearestNeighbors.kneighbors(tfidf[movie_index], nb_recommendation+1)\n",
    "\n",
    "    # Remove the current movie from the computed distances\n",
    "    dist = np.delete(dist[0], np.where(indices[0] == movie_index))\n",
    "    \n",
    "    # Remove the current movie from the recommended indices\n",
    "    indices = np.delete(indices[0], np.where(indices[0] == movie_index))\n",
    "    \n",
    "    return dist, indices"
   ]
  },
  {
   "cell_type": "markdown",
   "metadata": {},
   "source": [
    "We have now a way to compute the indices and distances of the recommendation for a given features in a given movie.\n",
    "\n",
    "But we would now like to merge the results of the recommendation for different features. A solution to this is to get the top K for all features with their distances, merge the indices and distances of all features into one big list of pairs of indices and distances and make a final top K selection on this final list."
   ]
  },
  {
   "cell_type": "code",
   "execution_count": 6,
   "metadata": {},
   "outputs": [],
   "source": [
    "def get_recommended_movies(index, features, nb_recommendation):\n",
    "    \n",
    "    all_dist = []\n",
    "    all_indices = []\n",
    "    for f in features:\n",
    "        tf_idf = tfIdf_dict[f]\n",
    "        nearest_neighbors = nn_dict[f]\n",
    "        dist, indices = compute_recommendation(nearest_neighbors, tf_idf, index, nb_recommendation)\n",
    "        #print(f, ': ')\n",
    "        #print(' dist', dist)\n",
    "        #print(' indices', indices)\n",
    "        all_dist.extend(dist)\n",
    "        all_indices.extend(indices)\n",
    "    \n",
    "    df = pd.DataFrame({'Indices': all_indices, 'Distances': all_dist})\n",
    "    # Sort the values by Distances and then by Indices (in case of equality)\n",
    "    df = df.sort_values(by=['Distances', 'Indices'], ascending=True)[:nb_recommendation]\n",
    "    \n",
    "    return df"
   ]
  },
  {
   "cell_type": "markdown",
   "metadata": {},
   "source": [
    "In the second step, we need to do recommendation from a list of movies. In this case we need to generate the K best recommendation for each movie, put them all in an array, sort them and keep only the top K.\n",
    "\n",
    "This last list will thus represent the best recommendation for a list of movies. It is possible to get the recommendations for only one movie by entering only one movie in the function.\n",
    "\n",
    "*Note: This function take a list of movie_list as a string `movie1, movie2, movie3`*"
   ]
  },
  {
   "cell_type": "code",
   "execution_count": 7,
   "metadata": {},
   "outputs": [],
   "source": [
    "def recommendations(movie_list, features, nb_recommendation):\n",
    "    \n",
    "    # Clean the movie_list\n",
    "    if movie_list[-1] is ',':\n",
    "        movie_list = movie_list[:-1]\n",
    "    \n",
    "    # Get the indices of the movies in the list\n",
    "    index_list = []\n",
    "    for movie_title in movie_list.split(','):\n",
    "        index = movies_df.index[movies_df['Title'] == movie_title].tolist()[0]\n",
    "        if index != None:\n",
    "            index_list.append(index)\n",
    "    \n",
    "    # Get the scores of the movies\n",
    "    recom_movies_df = pd.DataFrame(columns=['Indices', 'Distances'])\n",
    "    for movie_idx in index_list:\n",
    "        # Get the recommended movies for one movie\n",
    "        r_m_df = get_recommended_movies(movie_idx, features, nb_recommendation)\n",
    "        # Add them to the dataframe\n",
    "        recom_movies = pd.concat([recom_movies_df, r_m_df], join=\"inner\")\n",
    "\n",
    "    # Sort them by their scores (here the Distances) and then by their Indices in case of equality\n",
    "    recom_movies = recom_movies.sort_values(by=['Distances', 'Indices'], ascending=True)\n",
    "    # Retrieve the best N recommendations , and keep their indices only\n",
    "    recom_movies = recom_movies['Indices'][:nb_recommendation]\n",
    "    \n",
    "    return recom_movies"
   ]
  },
  {
   "cell_type": "markdown",
   "metadata": {},
   "source": [
    "## Testing the recommendation\n",
    "\n",
    "Now that we have been through all the hard work it is time to put our efforts at the test !\n",
    "\n",
    "In order to make the program more flexible we made it possible to select the features used in the score computations. Some features with low distances values (Genre, Country, etc) have some sorting issues. Since all the first values are 0, there is no telling which movies will be selected first by the `sklearn.neighbors.NearestNeighbors`.\n",
    "\n",
    "We define here a plot function that will print the recommended movies for the given list of movies and selection of feature.\n",
    "\n",
    "### One movie recommendation\n",
    "\n"
   ]
  },
  {
   "cell_type": "code",
   "execution_count": 8,
   "metadata": {
    "scrolled": false
   },
   "outputs": [],
   "source": [
    "def plot(movie_list, nb_recommendation, features):\n",
    "    print('Selected movies:', movie_list)\n",
    "    print('Selected features:', features)\n",
    "    movie_ids = recommendations(movie_list, features, nb_recommendation)\n",
    "    movie_plot = []\n",
    "    for index in movie_ids:\n",
    "        movie_plot.append(movies_df.iloc[index])\n",
    "    return HTML(movie_display.show(movie_plot))"
   ]
  },
  {
   "cell_type": "code",
   "execution_count": 9,
   "metadata": {},
   "outputs": [
    {
     "data": {
      "application/vnd.jupyter.widget-view+json": {
       "model_id": "9336722468fa4b2490180dd2b94bc257",
       "version_major": 2,
       "version_minor": 0
      },
      "text/plain": [
       "interactive(children=(Dropdown(description='Movies:', index=8479, options=('$9.99', \"'Hellboy': The Seeds of C…"
      ]
     },
     "metadata": {},
     "output_type": "display_data"
    }
   ],
   "source": [
    "movies = interact(\n",
    "    plot,\n",
    "    movie_list=widgets.Dropdown(options=movies_df['Title'].sort_values(), value='Toy Story', description='Movies:'),\n",
    "    nb_recommendation=widgets.IntSlider(min=1, max=10, step=1, value=5),\n",
    "    features=widgets.SelectMultiple(options = filtered_features, description='Features', value=['Plot', 'Title', 'Writer', 'Actors'], disabled = False)\n",
    ")"
   ]
  },
  {
   "cell_type": "markdown",
   "metadata": {},
   "source": [
    "### Multiple movie recommendation\n",
    "\n",
    "Here we can plot movies based on multiple movies. Just by click on a movie and then on 'Select Movie'. After some movies are added just click on 'Display'."
   ]
  },
  {
   "cell_type": "code",
   "execution_count": 10,
   "metadata": {},
   "outputs": [
    {
     "data": {
      "application/vnd.jupyter.widget-view+json": {
       "model_id": "045921e1ddd14124898965d90c3a146f",
       "version_major": 2,
       "version_minor": 0
      },
      "text/plain": [
       "VBox(children=(Select(index=8479, options=('$9.99', \"'Hellboy': The Seeds of Creation\", \"'I Know Where I'm Goi…"
      ]
     },
     "metadata": {},
     "output_type": "display_data"
    }
   ],
   "source": [
    "#Textarea widget to add multiple movies to one String\n",
    "text = widgets.Label()\n",
    "def btn_select_clicked(b):\n",
    "    # Append currently selected movie to list (if not already there)\n",
    "    if mov.value not in text.value:\n",
    "        text.value = text.value+mov.value+','\n",
    "    \n",
    "def getRecs(b):\n",
    "    rec = interact(\n",
    "        plot,\n",
    "        movie_list=text.value,\n",
    "        nb_recommendation=widgets.IntSlider(min=1,max=20,step=1,value=5),\n",
    "        features=widgets.SelectMultiple(options = filtered_features, description='Features', value=['Plot', 'Title', 'Writer', 'Actors'], disabled = False)\n",
    "    )\n",
    "\n",
    "#button for selecting movies\n",
    "btn_select = widgets.Button(description=\"Select Movie\")\n",
    "#button for displaying movies\n",
    "btn_display = widgets.Button(description=\"Display\")\n",
    "#when button 'Select Movie' is clicked the 'btn_select_clicked' function is called\n",
    "btn_select.on_click(btn_select_clicked)\n",
    "#when button 'btn_display' is clicked the 'getRecs' function is called\n",
    "btn_display.on_click(getRecs)\n",
    "#assigning a selected movie from a Select widget\n",
    "mov = widgets.Select(options=movies_df['Title'].sort_values(), value='Toy Story')\n",
    "#put all widgets in one box\n",
    "one_box = widgets.VBox([mov,text, btn_select, btn_display])\n",
    "#display the box\n",
    "display(one_box)"
   ]
  },
  {
   "cell_type": "markdown",
   "metadata": {},
   "source": [
    "## Conclusion\n",
    "\n",
    "Through this notebook we learnt how to create a content-based recommendation system. Some choices of implementation were made and commented."
   ]
  },
  {
   "cell_type": "code",
   "execution_count": null,
   "metadata": {},
   "outputs": [],
   "source": []
  }
 ],
 "metadata": {
  "kernelspec": {
   "display_name": "Python 3",
   "language": "python",
   "name": "python3"
  },
  "language_info": {
   "codemirror_mode": {
    "name": "ipython",
    "version": 3
   },
   "file_extension": ".py",
   "mimetype": "text/x-python",
   "name": "python",
   "nbconvert_exporter": "python",
   "pygments_lexer": "ipython3",
   "version": "3.7.1"
  },
  "toc": {
   "base_numbering": 1,
   "nav_menu": {},
   "number_sections": true,
   "sideBar": true,
   "skip_h1_title": false,
   "title_cell": "Table of Contents",
   "title_sidebar": "Contents",
   "toc_cell": false,
   "toc_position": {},
   "toc_section_display": true,
   "toc_window_display": false
  },
  "varInspector": {
   "cols": {
    "lenName": 16,
    "lenType": 16,
    "lenVar": 40
   },
   "kernels_config": {
    "python": {
     "delete_cmd_postfix": "",
     "delete_cmd_prefix": "del ",
     "library": "var_list.py",
     "varRefreshCmd": "print(var_dic_list())"
    },
    "r": {
     "delete_cmd_postfix": ") ",
     "delete_cmd_prefix": "rm(",
     "library": "var_list.r",
     "varRefreshCmd": "cat(var_dic_list()) "
    }
   },
   "types_to_exclude": [
    "module",
    "function",
    "builtin_function_or_method",
    "instance",
    "_Feature"
   ],
   "window_display": false
  }
 },
 "nbformat": 4,
 "nbformat_minor": 2
}
